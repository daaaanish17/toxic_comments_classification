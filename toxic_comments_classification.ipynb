{
  "nbformat": 4,
  "nbformat_minor": 0,
  "metadata": {
    "colab": {
      "name": "toxic_comments_classification.ipynb",
      "provenance": [],
      "authorship_tag": "ABX9TyOvGrgT/Apz0PJYQxTb8Aib",
      "include_colab_link": true
    },
    "kernelspec": {
      "name": "python3",
      "display_name": "Python 3"
    },
    "language_info": {
      "name": "python"
    }
  },
  "cells": [
    {
      "cell_type": "markdown",
      "metadata": {
        "id": "view-in-github",
        "colab_type": "text"
      },
      "source": [
        "<a href=\"https://colab.research.google.com/github/daaaanish17/toxic_comments_classification/blob/main/toxic_comments_classification.ipynb\" target=\"_parent\"><img src=\"https://colab.research.google.com/assets/colab-badge.svg\" alt=\"Open In Colab\"/></a>"
      ]
    },
    {
      "cell_type": "code",
      "execution_count": 12,
      "metadata": {
        "id": "L6xT6qCUjEae"
      },
      "outputs": [],
      "source": [
        "import pandas as pd\n",
        "import re\n",
        "from nltk.tokenize import word_tokenize\n",
        "\n",
        "from nltk.stem import SnowballStemmer\n",
        "\n",
        "from nltk.corpus import stopwords\n",
        "\n",
        "from sklearn.model_selection import train_test_split\n",
        "import re\n",
        "from sklearn.naive_bayes import MultinomialNB\n",
        "from sklearn.feature_extraction.text import CountVectorizer\n",
        "from sklearn.tree import DecisionTreeClassifier"
      ]
    },
    {
      "cell_type": "code",
      "source": [
        "df = pd.read_csv('toxic_baby.csv')\n",
        "df"
      ],
      "metadata": {
        "colab": {
          "base_uri": "https://localhost:8080/",
          "height": 424
        },
        "id": "en8ivmLNqgRu",
        "outputId": "ac81bde4-5c1b-478c-bdf8-8d290f30a40e"
      },
      "execution_count": 13,
      "outputs": [
        {
          "output_type": "execute_result",
          "data": {
            "text/plain": [
              "                                          comment_text  toxic\n",
              "0    Explanation\\nWhy the edits made under my usern...      0\n",
              "1    D'aww! He matches this background colour I'm s...      0\n",
              "2    Hey man, I'm really not trying to edit war. It...      0\n",
              "3    \"\\nMore\\nI can't make any real suggestions on ...      0\n",
              "4    You, sir, are my hero. Any chance you remember...      0\n",
              "..                                                 ...    ...\n",
              "495  Sarek of Vulcan: Unfortunately for you, you ca...      0\n",
              "496  Keep your chin up! Darwinism was not accepted ...      0\n",
              "497  \"\"\"Nazi filth\"\" is impolite  04:27, 20 Jan 200...      1\n",
              "498  Interesting. I checked the other case number K...      0\n",
              "499  The transcluded part of the GA review doesn't ...      0\n",
              "\n",
              "[500 rows x 2 columns]"
            ],
            "text/html": [
              "\n",
              "  <div id=\"df-2e4c6248-7ec9-42d1-957f-31b55a1d4b17\">\n",
              "    <div class=\"colab-df-container\">\n",
              "      <div>\n",
              "<style scoped>\n",
              "    .dataframe tbody tr th:only-of-type {\n",
              "        vertical-align: middle;\n",
              "    }\n",
              "\n",
              "    .dataframe tbody tr th {\n",
              "        vertical-align: top;\n",
              "    }\n",
              "\n",
              "    .dataframe thead th {\n",
              "        text-align: right;\n",
              "    }\n",
              "</style>\n",
              "<table border=\"1\" class=\"dataframe\">\n",
              "  <thead>\n",
              "    <tr style=\"text-align: right;\">\n",
              "      <th></th>\n",
              "      <th>comment_text</th>\n",
              "      <th>toxic</th>\n",
              "    </tr>\n",
              "  </thead>\n",
              "  <tbody>\n",
              "    <tr>\n",
              "      <th>0</th>\n",
              "      <td>Explanation\\nWhy the edits made under my usern...</td>\n",
              "      <td>0</td>\n",
              "    </tr>\n",
              "    <tr>\n",
              "      <th>1</th>\n",
              "      <td>D'aww! He matches this background colour I'm s...</td>\n",
              "      <td>0</td>\n",
              "    </tr>\n",
              "    <tr>\n",
              "      <th>2</th>\n",
              "      <td>Hey man, I'm really not trying to edit war. It...</td>\n",
              "      <td>0</td>\n",
              "    </tr>\n",
              "    <tr>\n",
              "      <th>3</th>\n",
              "      <td>\"\\nMore\\nI can't make any real suggestions on ...</td>\n",
              "      <td>0</td>\n",
              "    </tr>\n",
              "    <tr>\n",
              "      <th>4</th>\n",
              "      <td>You, sir, are my hero. Any chance you remember...</td>\n",
              "      <td>0</td>\n",
              "    </tr>\n",
              "    <tr>\n",
              "      <th>...</th>\n",
              "      <td>...</td>\n",
              "      <td>...</td>\n",
              "    </tr>\n",
              "    <tr>\n",
              "      <th>495</th>\n",
              "      <td>Sarek of Vulcan: Unfortunately for you, you ca...</td>\n",
              "      <td>0</td>\n",
              "    </tr>\n",
              "    <tr>\n",
              "      <th>496</th>\n",
              "      <td>Keep your chin up! Darwinism was not accepted ...</td>\n",
              "      <td>0</td>\n",
              "    </tr>\n",
              "    <tr>\n",
              "      <th>497</th>\n",
              "      <td>\"\"\"Nazi filth\"\" is impolite  04:27, 20 Jan 200...</td>\n",
              "      <td>1</td>\n",
              "    </tr>\n",
              "    <tr>\n",
              "      <th>498</th>\n",
              "      <td>Interesting. I checked the other case number K...</td>\n",
              "      <td>0</td>\n",
              "    </tr>\n",
              "    <tr>\n",
              "      <th>499</th>\n",
              "      <td>The transcluded part of the GA review doesn't ...</td>\n",
              "      <td>0</td>\n",
              "    </tr>\n",
              "  </tbody>\n",
              "</table>\n",
              "<p>500 rows × 2 columns</p>\n",
              "</div>\n",
              "      <button class=\"colab-df-convert\" onclick=\"convertToInteractive('df-2e4c6248-7ec9-42d1-957f-31b55a1d4b17')\"\n",
              "              title=\"Convert this dataframe to an interactive table.\"\n",
              "              style=\"display:none;\">\n",
              "        \n",
              "  <svg xmlns=\"http://www.w3.org/2000/svg\" height=\"24px\"viewBox=\"0 0 24 24\"\n",
              "       width=\"24px\">\n",
              "    <path d=\"M0 0h24v24H0V0z\" fill=\"none\"/>\n",
              "    <path d=\"M18.56 5.44l.94 2.06.94-2.06 2.06-.94-2.06-.94-.94-2.06-.94 2.06-2.06.94zm-11 1L8.5 8.5l.94-2.06 2.06-.94-2.06-.94L8.5 2.5l-.94 2.06-2.06.94zm10 10l.94 2.06.94-2.06 2.06-.94-2.06-.94-.94-2.06-.94 2.06-2.06.94z\"/><path d=\"M17.41 7.96l-1.37-1.37c-.4-.4-.92-.59-1.43-.59-.52 0-1.04.2-1.43.59L10.3 9.45l-7.72 7.72c-.78.78-.78 2.05 0 2.83L4 21.41c.39.39.9.59 1.41.59.51 0 1.02-.2 1.41-.59l7.78-7.78 2.81-2.81c.8-.78.8-2.07 0-2.86zM5.41 20L4 18.59l7.72-7.72 1.47 1.35L5.41 20z\"/>\n",
              "  </svg>\n",
              "      </button>\n",
              "      \n",
              "  <style>\n",
              "    .colab-df-container {\n",
              "      display:flex;\n",
              "      flex-wrap:wrap;\n",
              "      gap: 12px;\n",
              "    }\n",
              "\n",
              "    .colab-df-convert {\n",
              "      background-color: #E8F0FE;\n",
              "      border: none;\n",
              "      border-radius: 50%;\n",
              "      cursor: pointer;\n",
              "      display: none;\n",
              "      fill: #1967D2;\n",
              "      height: 32px;\n",
              "      padding: 0 0 0 0;\n",
              "      width: 32px;\n",
              "    }\n",
              "\n",
              "    .colab-df-convert:hover {\n",
              "      background-color: #E2EBFA;\n",
              "      box-shadow: 0px 1px 2px rgba(60, 64, 67, 0.3), 0px 1px 3px 1px rgba(60, 64, 67, 0.15);\n",
              "      fill: #174EA6;\n",
              "    }\n",
              "\n",
              "    [theme=dark] .colab-df-convert {\n",
              "      background-color: #3B4455;\n",
              "      fill: #D2E3FC;\n",
              "    }\n",
              "\n",
              "    [theme=dark] .colab-df-convert:hover {\n",
              "      background-color: #434B5C;\n",
              "      box-shadow: 0px 1px 3px 1px rgba(0, 0, 0, 0.15);\n",
              "      filter: drop-shadow(0px 1px 2px rgba(0, 0, 0, 0.3));\n",
              "      fill: #FFFFFF;\n",
              "    }\n",
              "  </style>\n",
              "\n",
              "      <script>\n",
              "        const buttonEl =\n",
              "          document.querySelector('#df-2e4c6248-7ec9-42d1-957f-31b55a1d4b17 button.colab-df-convert');\n",
              "        buttonEl.style.display =\n",
              "          google.colab.kernel.accessAllowed ? 'block' : 'none';\n",
              "\n",
              "        async function convertToInteractive(key) {\n",
              "          const element = document.querySelector('#df-2e4c6248-7ec9-42d1-957f-31b55a1d4b17');\n",
              "          const dataTable =\n",
              "            await google.colab.kernel.invokeFunction('convertToInteractive',\n",
              "                                                     [key], {});\n",
              "          if (!dataTable) return;\n",
              "\n",
              "          const docLinkHtml = 'Like what you see? Visit the ' +\n",
              "            '<a target=\"_blank\" href=https://colab.research.google.com/notebooks/data_table.ipynb>data table notebook</a>'\n",
              "            + ' to learn more about interactive tables.';\n",
              "          element.innerHTML = '';\n",
              "          dataTable['output_type'] = 'display_data';\n",
              "          await google.colab.output.renderOutput(dataTable, element);\n",
              "          const docLink = document.createElement('div');\n",
              "          docLink.innerHTML = docLinkHtml;\n",
              "          element.appendChild(docLink);\n",
              "        }\n",
              "      </script>\n",
              "    </div>\n",
              "  </div>\n",
              "  "
            ]
          },
          "metadata": {},
          "execution_count": 13
        }
      ]
    },
    {
      "cell_type": "markdown",
      "source": [
        "DATA PREPROCESSING"
      ],
      "metadata": {
        "id": "fbvHQcCVqsO2"
      }
    },
    {
      "cell_type": "code",
      "source": [
        "# checking null values\n",
        "df.isna().sum()"
      ],
      "metadata": {
        "colab": {
          "base_uri": "https://localhost:8080/"
        },
        "id": "ZaO9GAtbqgK5",
        "outputId": "faf9c85e-27eb-4a1e-a3a4-a0556612156f"
      },
      "execution_count": 14,
      "outputs": [
        {
          "output_type": "execute_result",
          "data": {
            "text/plain": [
              "comment_text    0\n",
              "toxic           0\n",
              "dtype: int64"
            ]
          },
          "metadata": {},
          "execution_count": 14
        }
      ]
    },
    {
      "cell_type": "code",
      "source": [
        "nltk.download('stopwords')"
      ],
      "metadata": {
        "colab": {
          "base_uri": "https://localhost:8080/"
        },
        "id": "j7hlNMhVr8jb",
        "outputId": "de80470e-f822-4855-be0b-23b4e5e5a0eb"
      },
      "execution_count": 16,
      "outputs": [
        {
          "output_type": "stream",
          "name": "stdout",
          "text": [
            "[nltk_data] Downloading package stopwords to /root/nltk_data...\n",
            "[nltk_data]   Unzipping corpora/stopwords.zip.\n"
          ]
        },
        {
          "output_type": "execute_result",
          "data": {
            "text/plain": [
              "True"
            ]
          },
          "metadata": {},
          "execution_count": 16
        }
      ]
    },
    {
      "cell_type": "code",
      "source": [
        "# dropping special character\n",
        "df['comment_text'] = df['comment_text'].map(lambda x: re.sub(r'\\W+', ' ', x))\n",
        "\n",
        "# converting to small case\n",
        "df['comment_text'] = df['comment_text'].str.lower()\n",
        "\n",
        "\n",
        "# dropping stop words\n",
        "# and performing stemming\n",
        "\n",
        "stop_words = set(stopwords.words('english'))"
      ],
      "metadata": {
        "id": "zIUMgS-AqgHV"
      },
      "execution_count": 17,
      "outputs": []
    },
    {
      "cell_type": "code",
      "source": [
        "nltk.download('punkt')"
      ],
      "metadata": {
        "colab": {
          "base_uri": "https://localhost:8080/"
        },
        "id": "7DO_9S8JsT6P",
        "outputId": "e5fdebe7-0aca-4591-e2ab-3517154ec1f9"
      },
      "execution_count": 19,
      "outputs": [
        {
          "output_type": "stream",
          "name": "stdout",
          "text": [
            "[nltk_data] Downloading package punkt to /root/nltk_data...\n",
            "[nltk_data]   Unzipping tokenizers/punkt.zip.\n"
          ]
        },
        {
          "output_type": "execute_result",
          "data": {
            "text/plain": [
              "True"
            ]
          },
          "metadata": {},
          "execution_count": 19
        }
      ]
    },
    {
      "cell_type": "code",
      "source": [
        "i = 0\n",
        "\n",
        "for index, values in df.iterrows():\n",
        "    text_tokens = word_tokenize(values.comment_text)\n",
        "    tokens_without_sw = [word for word in text_tokens if not word in stop_words]\n",
        "\n",
        "    # using snowball stemmer\n",
        "    stm = SnowballStemmer(language='english')\n",
        "    li = []\n",
        "    for st in tokens_without_sw:\n",
        "        x = stm.stem(st)\n",
        "        li.append(x)\n",
        "\n",
        "    stri = ' '.join(li)\n",
        "    df.iloc[[i], [0]] = (stri)\n",
        "\n",
        "    i = i + 1\n",
        "\n",
        "    if i == 500:\n",
        "        break"
      ],
      "metadata": {
        "id": "pq3JMH5HqgEf"
      },
      "execution_count": 20,
      "outputs": []
    },
    {
      "cell_type": "markdown",
      "source": [
        "Model Building"
      ],
      "metadata": {
        "id": "uL0VJbQUsYku"
      }
    },
    {
      "cell_type": "code",
      "source": [
        "x = df['comment_text'] #independent feature\n",
        "y = df['toxic'] #dependent feature"
      ],
      "metadata": {
        "id": "Z0qFZrkRqgB5"
      },
      "execution_count": 21,
      "outputs": []
    },
    {
      "cell_type": "markdown",
      "source": [
        "Train Test Split"
      ],
      "metadata": {
        "id": "j_ZjhG2osrrR"
      }
    },
    {
      "cell_type": "code",
      "source": [
        "X_train, X_test, y_train, y_test = train_test_split(x, y, test_size=0.2)\n",
        "\n",
        "# print(len(X_train))\n",
        "# print(len(X_test))"
      ],
      "metadata": {
        "id": "eXC9kqx3qf_D"
      },
      "execution_count": 22,
      "outputs": []
    },
    {
      "cell_type": "code",
      "source": [
        "# converting comment_text column into text\n",
        "v = CountVectorizer() #it generates unique features\n",
        "x_train_count = v.fit_transform(X_train.values)"
      ],
      "metadata": {
        "id": "SqikHHM3qf8e"
      },
      "execution_count": 23,
      "outputs": []
    },
    {
      "cell_type": "code",
      "source": [
        "# unique feature names\n",
        "print(v.get_feature_names())"
      ],
      "metadata": {
        "colab": {
          "base_uri": "https://localhost:8080/"
        },
        "id": "BnRmW2goqf6A",
        "outputId": "b380ba4b-0512-4fb7-b042-28630d5d2191"
      },
      "execution_count": 24,
      "outputs": [
        {
          "output_type": "stream",
          "name": "stdout",
          "text": [
            "['000', '001', '002', '01', '02', '04', '06', '07', '08', '09', '0cdyq6aewaq', '0px', '10', '100', '1000', '101', '102cs2001', '103', '106', '11', '1111', '11th', '12', '1200', '12003', '121', '122', '123', '126', '129', '13', '130', '133', '134', '13id', '13th', '14', '141', '146', '149', '14th', '15', '150', '151', '154', '1547', '1555', '1568', '159', '16', '1600', '161', '166', '167', '17', '175', '177', '1771', '17th', '18', '180', '1808', '181', '1816', '1818', '182', '184', '1844', '185', '1863', '187', '1870', '18th', '19', '190', '1900s', '1905', '1912', '1915', '1930', '1930s', '194', '1946', '1960s', '1969', '198', '1980s', '1983', '1988', '199', '1990', '1992', '1994', '1995', '1equalvoice1', '1px', '1st', '20', '200', '2000', '2002', '2003', '2004', '2005', '2006', '2007', '2008', '201', '2010', '2011', '2012', '2013', '2014', '203', '205', '206', '208', '20matrilin', '20th', '21', '210', '214', '215', '216', '219', '21st', '21wikipedia_talk', '22', '220', '229', '23', '230', '232', '234', '235', '24', '244', '245', '24c', '25', '252755', '255', '26', '26th', '27', '273', '2790', '28', '29', '2c_and_the_music_list', '2nd', '2u', '30', '31', '32', '33', '34', '35', '36', '38', '39', '3rr', '40', '4000', '42', '45', '46', '465', '48', '4th', '50', '500', '51', '52', '53', '54', '540053', '55', '56', '57', '59', '5th', '66', '67', '68', '680', '70', '73', '74', '75', '76', '77', '79', '80', '82', '84', '85', '86', '88', '89', '8px', '90', '92', '_മ', 'a0al_farabi', 'aat', 'abarang', 'abbey', 'abc', 'abid', 'abil', 'abl', 'absenc', 'absent', 'absolut', 'absout', 'absurd', 'abt', 'abus', 'ac', 'academ', 'academia', 'accent', 'accept', 'access', 'accesss', 'accid', 'accompani', 'accord', 'account', 'acctual', 'accur', 'accus', 'achiev', 'acknowledg', 'acount', 'acquaint', 'acquit', 'acquitt', 'across', 'act', 'action', 'actiual', 'activ', 'actual', 'acupressur', 'ad', 'adam', 'add', 'addit', 'address', 'adhes', 'adject', 'admin', 'administr', 'adminship', 'adminstr', 'admir', 'adoma', 'adopt', 'ador', 'advantag', 'advic', 'advis', 'advisori', 'advoc', 'ae', 'aeropagitica', 'aeroplan', 'aesthet', 'afd', 'afghanistan', 'afraid', 'africa', 'african', 'afternoon', 'age', 'agent', 'agf', 'aggrav', 'aggress', 'ago', 'agre', 'agreement', 'agricultur', 'ahead', 'ahh', 'aim', 'air', 'aircracft', 'aircraft', 'airfield', 'airlin', 'airplan', 'airway', 'aiv', 'al', 'album', 'alec', 'alert', 'alertsth', 'alevi', 'ali', 'alien', 'align', 'alka', 'alkar', 'alleg', 'allergi', 'allianc', 'allow', 'almighti', 'almost', 'alon', 'along', 'aloud', 'alpha', 'alreadi', 'also', 'altern', 'although', 'altitu', 'alway', 'amaz', 'america', 'american', 'ammend', 'among', 'amulet', 'analys', 'analyz', 'ancestor', 'ancestri', 'ancient', 'andemu', 'andi', 'andrija', 'angika', 'angri', 'anheus', 'anica', 'announc', 'anoth', 'answer', 'ant', 'anteir', 'anthoni', 'anthropologist', 'anti', 'antiqu', 'antisemmitian', 'antolog', 'anybodi', 'anyhow', 'anymor', 'anyon', 'anyth', 'anyway', 'anywher', 'aon', 'apart', 'apocalyps', 'apollo', 'apolog', 'apologis', 'apostl', 'appar', 'appear', 'appeas', 'appli', 'applic', 'appoint', 'appreci', 'approach', 'appropri', 'approv', 'approx', 'approxim', 'april', 'ar', 'arab', 'arama', 'arbitr', 'arcayn', 'archaeolog', 'archangel', 'archipelago', 'architectur', 'archiv', 'archive_2', 'archive_3', 'archive_5', 'area', 'areadi', 'argu', 'arguement', 'argument', 'arkyan', 'arm', 'armenia', 'armi', 'aros', 'around', 'arous', 'arrest', 'arrog', 'arsenal', 'art', 'arti', 'articl', 'artist', 'artpop', 'asad', 'asia', 'asian', 'ask', 'aspect', 'aspir', 'ass', 'assassin', 'assert', 'assess', 'asshol', 'asshole1', 'assign', 'assist', 'associ', 'assort', 'assum', 'assumpt', 'assyrian', 'aswel', 'asylum', 'asymmetr', 'ate', 'atheism', 'atleast', 'atmospher', 'atom', 'attack', 'attain', 'attempt', 'attend', 'attent', 'attract', 'attribut', 'atu', 'audienc', 'audio', 'august', 'aussi', 'australia', 'authent', 'author', 'authorship', 'autobiographi', 'automat', 'automobil', 'autovoic', 'avail', 'avenu', 'averag', 'avoid', 'avraham', 'aw', 'awar', 'award', 'away', 'awesom', 'azari', 'azerbaijani', 'b6rper_in_anus_und_rektum', 'baba', 'babe', 'babi', 'back', 'background', 'backlog', 'backward', 'bacteria', 'bad', 'badass', 'bait', 'bal537', 'balagonj786', 'balanc', 'bald', 'baldwin', 'ball', 'ban', 'band', 'bandai', 'bandwidth', 'bank', 'banner', 'banović', 'bar', 'bare', 'barn', 'barnstar', 'bart133', 'base', 'baseless', 'basi', 'basic', 'basin', 'basket', 'bastion', 'batman', 'battl', 'bavaria', 'bay', 'bbq', 'be', 'beach', 'bear', 'beat', 'beauti', 'becam', 'becom', 'bee', 'begin', 'behavior', 'behaviour', 'behind', 'belat', 'belgium', 'belief', 'believ', 'belong', 'bend', 'benefici', 'benefit', 'benjamin', 'bent', 'besid', 'best', 'bestsel', 'beta', 'better', 'bewar', 'beyond', 'beč', 'bhadohi', 'bhati', 'bi', 'bias', 'bibl', 'big', 'bigfoot', 'biggest', 'bigot', 'bigotri', 'bigpond', 'bilater', 'bill', 'binki', 'bint', 'bio', 'biograph', 'biographi', 'biolog', 'birth', 'birthday', 'bisexu', 'bit', 'bitch', 'bitten', 'bizarr', 'bla', 'black', 'blackmon', 'blank', 'blasio', 'blew', 'bliss', 'block', 'blog', 'bloodi', 'bloodofox', 'blp', 'blue', 'blueboy', 'blueboy96', 'bne', 'board', 'bodi', 'boe', 'boil', 'bold', 'bomb', 'bongwarrior', 'booger', 'book', 'border', 'borderlin', 'bore', 'borgqueen', 'born', 'boston', 'bot', 'bother', 'bottom', 'bound', 'boundari', 'bow', 'box', 'boy', 'br', 'brain', 'branch', 'brazil', 'breaksfix', 'breath', 'bridg', 'brief', 'briefli', 'brightest', 'brilliant', 'bring', 'brisban', 'britannica', 'british', 'broad', 'broaden', 'broke', 'broken', 'brother', 'brought', 'bruis', 'brutal', 'brute', 'bryant', 'bsa', 'bsas', 'btw', 'buckminst', 'buddi', 'budweis', 'build', 'builder', 'built', 'bulgaria', 'bulgarian', 'bullet', 'bulli', 'bullshit', 'bumcheek', 'bunch', 'bunyan', 'burgas00', 'buri', 'burial', 'burn', 'burrito', 'busch', 'bush', 'busi', 'button', 'bytauta', 'c2', 'c3', 'cabal', 'cabinet', 'cacul', 'california', 'call', 'caltech', 'calton', 'cam', 'came', 'camera', 'campaign', 'campbel', 'canada', 'candid', 'cannon', 'canon', 'cant', 'cantor', 'canuck', 'canva', 'canyon', 'capit', 'captain', 'carbon', 'care', 'career', 'carolina', 'carpet', 'carptrash', 'carrang', 'carri', 'carrier', 'case', 'cat', 'catagori', 'catastroph', 'categori', 'cathol', 'caucasus', 'caught', 'caus', 'causeway', 'cbs', 'cdvf', 'ceas', 'cedff2', 'cef2e0', 'ceinner', 'cellpad', 'cellspac', 'censor', 'censorship', 'cent', 'center', 'central', 'centrx', 'centuri', 'ceram', 'certain', 'certitud', 'cetinj', 'challeng', 'chamar', 'chamber', 'championship', 'chanc', 'chang', 'channel', 'charact', 'character', 'characterist', 'charg', 'chariti', 'charles_webster_leadbeat', 'chart', 'charter', 'chase', 'chatspi', 'chavez', 'cheapest', 'cheat', 'cheatsheet', 'check', 'cheer', 'cheesi', 'chef', 'chemic', 'chernodrinski', 'cheroke', 'chess', 'chew', 'chicago', 'child', 'childhood', 'children', 'chin', 'china', 'chines', 'chip', 'chirlan', 'choic', 'choos', 'christ', 'christian', 'christma', 'chromosom', 'chunk', 'church', 'circambul', 'citat', 'cite', 'citi', 'citiat', 'citizen', 'civil', 'cla', 'claim', 'clamp', 'clan', 'clandesc', 'clarif', 'clarifi', 'class', 'classic', 'classifi', 'clean', 'cleanup', 'clear', 'click', 'climat', 'clock', 'close', 'closer', 'closur', 'cloth', 'clown', 'club', 'clutter', 'coalit', 'coastal', 'coaster', 'coat', 'cock', 'cocksuck', 'code', 'codenam', 'codi', 'coi', 'coincid', 'colaco', 'coldplay', 'collabor', 'collaps', 'collater', 'colleagu', 'collect', 'collectonian', 'colleg', 'collus', 'color', 'colour', 'columbia', 'com', 'combat', 'combin', 'come', 'comfort', 'comm', 'command', 'comment', 'commerci', 'commission', 'common', 'commonsens', 'communic', 'communist', 'communiti', 'compani', 'compar', 'competit', 'complain', 'complaint', 'complet', 'complex', 'compli', 'compliat', 'complic', 'compliment', 'compos', 'compound', 'comprehens', 'compromis', 'comput', 'concept', 'concern', 'concis', 'conclud', 'conclus', 'concret', 'condemn', 'condescend', 'condit', 'conduct', 'confer', 'confid', 'configur', 'confirm', 'conflict', 'conform', 'confus', 'congratul', 'conndom', 'connect', 'connorbarwincinci', 'consensus', 'consent', 'conserv', 'conservativ', 'consid', 'consist', 'consitut', 'conspiraci', 'constant', 'constitut', 'construct', 'consult', 'contact', 'contain', 'contemporari', 'content', 'contest', 'context', 'contin', 'continu', 'contract', 'contradict', 'contrari', 'contraversi', 'contrib', 'contribut', 'contributor', 'control', 'controversi', 'conveni', 'converg', 'convict', 'cooki', 'cool', 'cope', 'copi', 'copperwar', 'copyright', 'corbett', 'core', 'corner', 'correct', 'corridor', 'corrupt', 'cost', 'costal', 'cothurnocysti', 'could', 'council', 'count', 'counterpart', 'counti', 'countless', 'countri', 'coup', 'coupl', 'cours', 'cousin', 'coven', 'cover', 'creat', 'created_imag', 'creation', 'creator', 'creatur', 'credibl', 'creek', 'cri', 'cricket', 'crimin', 'crisi', 'criteria', 'criterium', 'critic', 'croat', 'croatia', 'croatian', 'croatis', 'crowd', 'crown', 'crucial', 'crystal', 'csd', 'css', 'cu', 'cuisin', 'cull', 'culmin', 'cult', 'cultur', 'cunt', 'cup', 'cure', 'curious', 'current', 'custom', 'cut', 'cwc', 'cyberstalk', 'cyde', 'cynic', 'cyril', 'czech', 'dab', 'daili', 'dairang', 'dalmatia', 'dalmatian', 'damag', 'damn', 'danc', 'dangerous', 'danielson', 'dank', 'danni', 'daph', 'dardania', 'dareton', 'dark', 'darn', 'darwin', 'dash', 'data', 'databas', 'date', 'daughter', 'davi', 'david', 'daw', 'day', 'db', 'ddebat', 'de', 'dead', 'deal', 'dear', 'death', 'debat', 'dec', 'decad', 'deceas', 'deceit', 'decemb', 'decent', 'deces', 'decid', 'decis', 'decreas', 'dedic', 'deem', 'deep', 'deepest', 'deepu', 'defam', 'defamatori', 'default', 'defeat', 'defect', 'defend', 'defici', 'defin', 'definit', 'degre', 'dekarang', 'delay', 'deleet', 'delet', 'deliber', 'delorko', 'delt', 'demand', 'democraci', 'democrat', 'demograph', 'demonstr', 'denmark', 'denot', 'depart', 'depend', 'depict', 'dept', 'deriv', 'derogatori', 'descand', 'descend', 'describ', 'descript', 'design', 'desk', 'desktop', 'despit', 'destroy', 'destruct', 'detail', 'detect', 'determin', 'develop', 'devic', 'devil', 'dh', 'diagenesi', 'diaspora', 'dick', 'dickhead', 'dickhead11', 'dickwe', 'die', 'diet', 'diff', 'differ', 'difficult', 'digg', 'dilbert', 'dinar', 'diphthong', 'diplomat', 'direct', 'directori', 'dirt', 'disabl', 'disagr', 'disagre', 'disambig', 'disambigu', 'disappear', 'disappoint', 'discharg', 'disclos', 'discographi', 'discourag', 'discov', 'discplin', 'discret', 'discretionari', 'discrimin', 'discuss', 'disgrac', 'dishonest', 'disingenu', 'dislik', 'disord', 'dispers', 'disput', 'disrespect', 'disrupt', 'dissent', 'dissolut', 'dissolv', 'distanc', 'distinct', 'distinguish', 'distract', 'district', 'diva', 'divers', 'divid', 'divin', 'dna', 'doctor', 'document', 'dodo', 'dog', 'dogmeat', 'doi', 'doll', 'dollar', 'domain', 'domin', 'dominion', 'done', 'donohu', 'dont', 'doom', 'doubt', 'douch', 'dow', 'dq', 'dr', 'draft', 'dramatist', 'drastic', 'drawn', 'dream', 'dri', 'drink', 'drive', 'driven', 'drop', 'drown', 'drum', 'dsm', 'dubrovnik', 'duck', 'dude', 'due', 'dula', 'dulithgow', 'dunno', 'duti', 'dvd', 'earli', 'earlier', 'earliest', 'earth', 'easi', 'easier', 'easili', 'east', 'eastern', 'eat', 'eatwel', 'eccentr', 'echinodermata', 'echo', 'econom', 'economi', 'ed', 'edg', 'edit', 'editor', 'editori', 'editorwelcom', 'edu', 'eduard', 'educ', 'effect', 'effluent', 'effort', 'eg', 'eh', 'ehrman', 'ei', 'eidt', 'eighteen', 'eighti', 'either', 'ejacul', 'ekopedia', 'el', 'el_c', 'elabor', 'elbow', 'elect', 'electron', 'eleph', 'elev', 'elimin', 'elit', 'elonka', 'els', 'elsewher', 'elus', 'email', 'embarass', 'embassi', 'embed', 'emerg', 'emma', 'emotionallli', 'emphasi', 'emphasis', 'empir', 'empti', 'en', 'enabl', 'encourag', 'encycloped', 'encyclopedia', 'encyclopædia', 'encylopia', 'end', 'enforc', 'engag', 'engin', 'england', 'english', 'enjoy', 'enlightn', 'enn', 'enough', 'enter', 'entertain', 'entir', 'entiti', 'entitl', 'entran', 'entranc', 'entri', 'environ', 'envirou', 'eon', 'episod', 'equal', 'equilibrium', 'equival', 'er', 'eras', 'eric', 'errant', 'erron', 'error', 'escal', 'especi', 'esperanza', 'esperanzi', 'essenti', 'establish', 'eta', 'etc', 'ethiopian', 'ethnic', 'europ', 'european', 'evad', 'evalu', 'even', 'event', 'eventu', 'ever', 'everi', 'everybodi', 'everyon', 'everyth', 'everytim', 'everywher', 'evid', 'evil', 'ex', 'exact', 'exampl', 'exceed', 'except', 'excess', 'exchang', 'exclud', 'exclus', 'execut', 'exempt', 'exercis', 'exil', 'exist', 'expand', 'expans', 'expect', 'expel', 'exper', 'experi', 'experiment', 'expert', 'expertis', 'expir', 'explain', 'explainant', 'explan', 'explicit', 'expos', 'express', 'expuls', 'expért', 'exquisit', 'extend', 'extens', 'extern', 'extinct', 'extra', 'extrem', 'extremist', 'eye', 'f3uwf1eqb0ac', 'f5faff', 'f5fffa', 'fa', 'faber', 'fac', 'facad', 'face', 'faceti', 'facil', 'facilit', 'fact', 'factor', 'factual', 'faculti', 'fade', 'fagget', 'faggot', 'fail', 'failur', 'fair', 'fair_us', 'faith', 'fall', 'fals', 'falsiti', 'familar', 'famili', 'familiar', 'famous', 'fan', 'fancruft', 'faq', 'far', 'farabi', 'farah', 'farmer', 'fas', 'fascism', 'fashion', 'fashist', 'fat', 'father', 'fatima', 'fault', 'favor', 'fear', 'feasibl', 'featur', 'feb', 'februari', 'feder', 'feebl', 'feedback', 'feel', 'felic', 'fella', 'fellow', 'felt', 'fenian', 'ferri', 'festiv', 'fewer', 'fiction', 'field', 'fight', 'figur', 'file', 'fill', 'film', 'filter', 'filthi', 'final', 'find', 'fine', 'finger', 'finish', 'fire', 'first', 'fisherqueen', 'fisto', 'fit', 'five', 'fix', 'flagella', 'flagrant', 'flair', 'flame', 'flaw', 'flew', 'flight', 'flood', 'florida', 'flow', 'flu', 'focus', 'focuss', 'fodder', 'folk', 'folklor', 'folklorist', 'follow', 'followup', 'fom', 'food', 'fool', 'foot', 'footnot', 'forbid', 'forbidden', 'forc', 'forehead', 'foreign', 'foremost', 'forens', 'forest', 'forevermiss', 'forget', 'forgiv', 'forgot', 'form', 'formal', 'format', 'former', 'fort', 'forth', 'forti', 'fortnight', 'forum', 'forward', 'fossil', 'foul', 'found', 'foundat', 'four', 'fox', 'fra', 'fradul', 'fragment', 'francisco', 'frank', 'frank151', 'franz', 'free', 'freedmen', 'freeli', 'fremdk', 'frequent', 'freshman', 'fri', 'friction', 'friend', 'frieser', 'fring', 'frivil', 'front', 'frozen', 'fruit', 'frustrat', 'fuck', 'fuckcock', 'fuckee', 'fucki', 'fuk', 'full', 'fuller', 'fulli', 'fun', 'function', 'fundament', 'fundamentalist', 'funni', 'furthermor', 'futperf', 'futur', 'g0ng', 'ga', 'gaga', 'gain', 'gall', 'galleri', 'game', 'gan', 'gang', 'gaorang', 'garbag', 'gardez', 'gas', 'gate', 'gave', 'gay', 'gear', 'gekirang', 'gene', 'genear', 'general', 'generar', 'generat', 'genitalia', 'genocid', 'gentleman', 'genuin', 'geograph', 'geographi', 'geologist', 'geometri', 'georg', 'georgiev', 'gerard', 'german', 'germani', 'get', 'gfdl', 'giant', 'gibberish', 'gira', 'girl', 'girnius', 'give', 'given', 'glad', 'gladiatorz', 'glantz', 'glasnik', 'glebe', 'glen', 'glimps', 'global', 'glyph', 'go', 'goad', 'goal', 'goat', 'god', 'goddamn', 'goe', 'gogo', 'gohatto', 'golden', 'gon', 'gone', 'good', 'good_article_nomin', 'goodby', 'goodday', 'goof', 'googl', 'gore', 'goreng', 'got', 'gotten', 'govern', 'grab', 'grabber', 'grace', 'grain', 'grammar', 'grand', 'grandfath', 'graph', 'great', 'greater', 'greedi', 'greek', 'greensburg', 'greet', 'greetingshhh', 'grew', 'griffin', 'griffith', 'grommet', 'grossli', 'ground', 'group', 'grow', 'grround', 'grudg', 'guarante', 'guard', 'guess', 'guid', 'guidelin', 'guild', 'guilti', 'guru', 'gus', 'gusar', 'gusl', 'gustaiti', 'guy', 'gw', 'gypsi', 'hajduk', 'half', 'ham', 'hamish', 'hammer', 'hand', 'handl', 'hang', 'haplogroup', 'happen', 'happi', 'harald', 'harass', 'harbor', 'hard', 'hardcor', 'hardi', 'harmless', 'harrybabar', 'harsh', 'harvnb', 'hasten', 'hasti', 'hastol', 'hate', 'hatr', 'hauptseit', 'hawaii', 'hayn', 'haywir', 'haze', 'hdz', 'head', 'health', 'healthi', 'hear', 'heard', 'heart', 'heavi', 'heavili', 'heel', 'hei', 'heigl', 'heinous', 'hektorović', 'held', 'hell', 'hello', 'help', 'henc', 'herat', 'herebi', 'heritag', 'hero', 'heroic', 'hes', 'hesit', 'heterosexu', 'hey', 'hhev0u1gfpec', 'hi', 'hidden', 'high', 'higher', 'highest', 'highlight', 'hindi', 'hindsight', 'hinterland', 'histor', 'histori', 'historian', 'hit', 'hitmen', 'hl', 'ho', 'hoax', 'hobbi', 'hockey', 'holbach', 'hold', 'holder', 'holocaust', 'home', 'homi', 'hominem', 'homogen', 'homophobia', 'homosexu', 'homostelea', 'honest', 'honeycomb', 'honour', 'hood', 'hope', 'hopp', 'horni', 'hors', 'hospit', 'host', 'hostil', 'hour', 'hous', 'howev', 'hrvatsk', 'htm', 'html', 'http', 'https', 'hub', 'hugo', 'huh', 'human', 'humor', 'humour', 'hunt', 'huntley', 'hurdl', 'hurt', 'hvar', 'hygien', 'hyperopia', 'hyperskyhook', 'hyperson', 'hyphen', 'hypocrisi', 'hypothes', 'hypothesi', 'i_could_use_some_helpwikipedia_talk', 'icon', 'id', 'idea', 'ideal', 'identifi', 'ideolog', 'idiolog', 'idiomat', 'idiot', 'ie', 'igna', 'ignor', 'ii', 'iihf', 'iix', 'ill', 'illeg', 'illegitim', 'illiter', 'illus', 'im', 'imag', 'image_use_polici', 'imagin', 'imbal', 'imho', 'imit', 'immeasur', 'immens', 'immigr', 'immun', 'imo', 'impact', 'imperson', 'impli', 'import', 'impos', 'impress', 'improb', 'improp', 'improv', 'inappropri', 'inc', 'incid', 'incident', 'incivil', 'includ', 'inclus', 'incom', 'incompat', 'inconceiv', 'inconsequenti', 'incorpor', 'incorrect', 'increas', 'incred', 'incrimin', 'inde', 'indef', 'indefinit', 'independ', 'india', 'indic', 'individu', 'indulg', 'industri', 'inequ', 'inevit', 'infal', 'infantri', 'inferior', 'info', 'infobox', 'infoboximag', 'inform', 'infring', 'ingest', 'initi', 'inkscap', 'innapprpri', 'inner', 'innoc', 'innov', 'input', 'inscrit', 'insens', 'insert', 'insid', 'insight', 'insist', 'instabl', 'instanc', 'instead', 'institut', 'instruct', 'instrument', 'insult', 'int', 'intead', 'integr', 'intellig', 'intend', 'intent', 'interact', 'interchang', 'interest', 'internet', 'interpret', 'interrupt', 'interspers', 'intertud', 'intervent', 'interview', 'intro', 'introduc', 'introduct', 'intrus', 'intuit', 'invad', 'invalid', 'invent', 'inventor', 'invertebr', 'investig', 'invis', 'invit', 'involv', 'ip', 'ipa', 'iq', 'iranchamb', 'iranian', 'irc', 'ireland', 'irrat', 'irrefut', 'irregular', 'irrig', 'irrigi', 'ish', 'islam', 'island', 'isnt', 'isol', 'issei', 'issu', 'ital', 'itali', 'item', 'ivan', 'ivanova', 'ix', 'jack', 'jacket', 'jacko', 'jackson', 'jakšta', 'jal', 'jalalabad', 'jalway', 'jam', 'jan', 'januari', 'japan', 'japanes', 'jay', 'jayjg', 'jedp', 'jeremi', 'jergović', 'jetstar', 'jew', 'jewish', 'jewsforlif', 'jharkhand', 'jim', 'jimbo', 'jimmi', 'jmabel', 'job', 'joel', 'johann', 'john', 'join', 'joke', 'josett', 'josé', 'journal', 'journalist', 'jpg', 'judg', 'judgement', 'judgment', 'juelz', 'jul', 'juli', 'jump', 'jun', 'junak', 'junačk', 'juoza', 'jurišić', 'jurkūna', 'justic', 'justif', 'justifi', 'juvenil', 'jza', 'kaburst', 'kakurang', 'kalafatović', 'kalchchari', 'kalttari', 'kanin', 'kansai', 'karakoç', 'karlo', 'kasuga', 'katelyn', 'katherin', 'kau', 'kazi', 'kačić', 'kb', 'kc', 'keep', 'kelli', 'kelpi', 'kenneth', 'kenya', 'key', 'khurja', 'kick', 'kid', 'kill', 'kind', 'kinda', 'kindergarten', 'king', 'kingdom', 'kinsella', 'kitman', 'kitten', 'kix', 'kiyoweap', 'kkkkanuck', 'kla', 'klm', 'knew', 'know', 'knowledg', 'known', 'korea', 'korean', 'kosović', 'kosovo', 'kočan', 'kraljević', 'kuban', 'kuchi', 'kudo', 'kudrić', 'kulturi', 'kumanovo', 'kunduz', 'kursk', 'kymantaitė', 'l31', 'l41', 'lab', 'label', 'labour', 'lack', 'ladi', 'laghman', 'lake', 'land', 'lang', 'languag', 'larean', 'larg', 'largest', 'lashkargah', 'last', 'late', 'later', 'latest', 'latter', 'laugh', 'laughabl', 'law', 'lawyer', 'lazi', 'lceliku', 'lead', 'leadbeat', 'leader', 'learn', 'least', 'leav', 'led', 'left', 'leftist', 'legal', 'legitim', 'leighton', 'lemmey', 'lemonparti', 'length', 'leno', 'less', 'lesser', 'lesson', 'lestrad', 'let', 'letter', 'leve', 'level', 'libbrecht', 'liber', 'librari', 'libri', 'licens', 'lie', 'life', 'light', 'like', 'limb', 'limit', 'lin', 'line', 'lineag', 'link', 'linsan', 'lisak', 'list', 'lista', 'listen', 'liter', 'literari', 'literatur', 'lithuania', 'lithuanian', 'litter', 'littl', 'littor', 'liuda', 'live', 'liz', 'ljuba', 'lloyd', 'load', 'local', 'locat', 'lock', 'log', 'logar', 'logic', 'loi', 'lol', 'london', 'long', 'longer', 'lontech', 'look', 'looong', 'loss', 'lost', 'lot', 'lovck', 'love', 'lover', 'low', 'lower', 'lpg', 'luck', 'lunaci', 'lunch', 'lute', 'luzern', 'm122', 'm95', 'macdonald', 'macedonia', 'macedonian', 'machin', 'mackensen', 'mad', 'made', 'mag', 'magazin', 'magic', 'magirang', 'magnitud', 'mail', 'main', 'mainland', 'mainlin', 'mainpagebg', 'mainspac', 'mainspr', 'mainstream', 'maintain', 'major', 'makarska', 'make', 'malaprop', 'malayalam', 'male', 'malici', 'man', 'manag', 'mandatori', 'mani', 'manner', 'manual', 'marbl', 'march', 'margin', 'mariano', 'mark', 'market', 'marko', 'martial', 'marvel', 'marvin', 'mask', 'mass', 'massiv', 'mastaba', 'master', 'masturb', 'match', 'mate', 'materi', 'math', 'mathemat', 'matija', 'matrilin', 'matsuda', 'matt', 'matter', 'matur', 'maud', 'maunus', 'maximum', 'may', 'mayb', 'mayor', 'mb', 'mccandless', 'mccray', 'mcdickerson', 'mcdonald', 'mcelit', 'mckinsey', 'mean', 'meaning', 'meantim', 'meat', 'meatpuppet', 'media', 'mediat', 'mediawiki', 'mediev', 'mediocr', 'mediterranean', 'medium', 'meet', 'megarang', 'mehm', 'melfalan', 'mello', 'member', 'membership', 'memor', 'men', 'mendel', 'ment', 'mental', 'mention', 'meow', 'mephil', 'mepo', 'mere', 'merg', 'merkin', 'merri', 'mess', 'messag', 'messier', 'met', 'meta', 'metal', 'metallica', 'metamorph', 'metaphor', 'method', 'metro', 'metropolitan_of_moscow_makariy_nevskiy', 'mexico', 'meyour', 'meštrović', 'meːn', 'michael', 'michel', 'middl', 'middlema', 'might', 'migrant', 'migrat', 'mijović', 'milemoney', 'mileston', 'militari', 'miljenko', 'million', 'mind', 'mindless', 'mindmatrix', 'mine', 'miner', 'minim', 'minion', 'minor', 'minut', 'miošić', 'mis', 'miscarriag', 'misconcept', 'misinterpret', 'mislead', 'mismatch', 'misread', 'miss', 'mission', 'mistak', 'misus', 'mitch', 'mitsurugi', 'mixtur', 'miz', 'ml', 'mmitra', 'mmr', 'moar', 'mobil', 'moder', 'modern', 'modernist', 'modul', 'mofo', 'mom', 'moment', 'monarchi', 'money', 'montdal', 'montenegro', 'montenenegro', 'month', 'montreal', 'moonlit', 'moradabad', 'moral', 'moreov', 'moroccan', 'moron', 'morrissey', 'moscap', 'moscow', 'most', 'mostv', 'mother', 'motherfucker111lol', 'motiejus', 'motiv', 'mountain', 'mourinho', 'mouth', 'move', 'movement', 'movi', 'mp3', 'mr', 'mrph', 'mrsc', 'much', 'muchacho', 'muck', 'mulder', 'multipl', 'multiplay', 'mum', 'mundo', 'murder', 'murko', 'murkoth', 'music', 'muslim', 'mussolini', 'must', 'mutual', 'mykola', 'myth', 'mytholog', 'mythomania', 'm²', 'm³', 'na', 'naimark', 'nake', 'name', 'nanotub', 'napl', 'narodn', 'nasal', 'nasti', 'nat', 'nation', 'nationalist', 'nativ', 'nato', 'natur', 'nazi', 'nbn', 'near', 'nearest', 'necess', 'necessari', 'necessarili', 'ned', 'need', 'need_help', 'needham', 'neff', 'negat', 'neglig', 'neither', 'nelson', 'neo', 'neolith', 'neolog', 'neologislm', 'nerv', 'net', 'neutral', 'neutron', 'never', 'nevertheless', 'new', 'newbi', 'newcastl', 'newest', 'newfound', 'news', 'newslett', 'newspap', 'next', 'nice', 'nici', 'nigger', 'night', 'nis', 'nist', 'nobel', 'nobl', 'nobodi', 'nomin', 'non', 'none', 'nonsens', 'noodl', 'noon', 'nope', 'normal', 'norman', 'north', 'northern', 'noseptemb', 'nostril', 'notabl', 'notable122', 'note', 'noth', 'notic', 'noticeboard', 'notifi', 'notion', 'noun', 'nov', 'novanova', 'nown', 'npa', 'npov', 'npv', 'nude', 'nudg', 'number', 'numer', 'nut', 'nutley', 'ny', 'nyt', 'obit', 'obituari', 'object', 'oblig', 'obo', 'observ', 'obtain', 'obtrus', 'obvious', 'occas', 'occup', 'occur', 'octob', 'odd', 'offend', 'offens', 'offer', 'offes', 'offic', 'offici', 'offlin', 'offsett', 'offspr', 'often', 'ogg', 'oh', 'ohrang', 'oif', 'ok', 'okay', 'olc', 'old', 'older', 'olinko', 'olymp', 'omg', 'omit', 'one', 'onepag', 'ongo', 'onlin', 'onlinelibrari', 'onset', 'onto', 'oooooon', 'op', 'open', 'oper', 'operibus', 'opinion', 'oppon', 'opportun', 'oppos', 'opposit', 'oppress', 'opt', 'optus', 'orangemik', 'orbit', 'order', 'ordnanc', 'org', 'organ', 'organis', 'orgin', 'orient', 'origin', 'orwel', 'osredečki', 'osteen', 'other', 'otherwis', 'otman', 'ought', 'outcast', 'outcom', 'outdat', 'outlook', 'outreach', 'outsid', 'overal', 'overhead', 'overlink', 'overrul', 'overweight', 'overwhelm', 'own', 'owner', 'ox', 'pa51', 'pa70', 'paark', 'pacif', 'page', 'page8', 'paghman', 'pai', 'paid', 'paint', 'painter', 'pair', 'pal', 'paleontologist', 'pancrea', 'pandem', 'paper', 'paradox', 'paragraph', 'parallel', 'paramount', 'park', 'parker', 'parliament', 'parliamentari', 'parodi', 'part', 'parti', 'particl', 'particular', 'parzival418', 'pashtun', 'pass', 'passag', 'passiv', 'password', 'past', 'pastri', 'pat', 'patent', 'patient', 'patrickflaherti', 'paul', 'paula', 'pay', 'payload', 'paí', 'pd', 'pdf', 'peac', 'peacock', 'peasant', 'pediment', 'pedophilia', 'peer', 'peic', 'peiser', 'pend', 'peni', 'pentagram', 'peopl', 'per', 'perceiv', 'percent', 'perfect', 'perform', 'perhap', 'period', 'peripher', 'perman', 'perminer', 'permiss', 'permit', 'persist', 'person', 'personnel', 'pertain', 'pertrub', 'pervers', 'pes', 'pet', 'petar', 'pg', 'phase', 'phd', 'phenomenon', 'philosoph', 'philosophi', 'philosophus', 'phone', 'photo', 'photographi', 'php', 'phrase', 'physic', 'pic', 'piccirilli', 'pick', 'pictur', 'picturesqu', 'piec', 'piffl', 'pile', 'pillar', 'pin', 'pink', 'pirat', 'piss', 'pittsburgh', 'pivot', 'pix', 'pjesm', 'place', 'plagiar', 'plan', 'plane', 'plant', 'plaster', 'plate', 'platform', 'play', 'player', 'playground', 'pleas', 'pleasant', 'pleasur', 'plenti', 'pls', 'plug', 'plus', 'plz', 'png', 'podgorica', 'poet', 'poetic', 'poetri', 'point', 'poke', 'poker', 'poland', 'polem', 'polic', 'polici', 'polit', 'politess', 'politician', 'pollen', 'polygraph', 'poobah', 'pool', 'poopi', 'pop', 'popclass', 'popul', 'popular', 'populationsbelow', 'popup', 'porcelain', 'porn', 'portal', 'portray', 'posit', 'possess', 'possibil', 'possibl', 'post', 'potd', 'potenti', 'potter', 'pound', 'pour', 'pov', 'power', 'pp1', 'practic', 'practis', 'practition', 'pradesh', 'prairi', 'prais', 'pre', 'preced', 'precis', 'precisley', 'predomin', 'predrag', 'prefer', 'pregnant', 'prehistor', 'prematur', 'premis', 'prepar', 'prescript', 'present', 'preserv', 'presid', 'press', 'presum', 'pretend', 'pretens', 'pretti', 'prevar', 'prevent', 'previous', 'price', 'priest', 'prigovaranj', 'primar', 'primari', 'primarili', 'primit', 'princ', 'princeton', 'principl', 'print', 'prisa', 'prison', 'privat', 'pro', 'probabl', 'problem', 'proced', 'proceed', 'process', 'produc', 'product', 'profan', 'profess', 'profession', 'profil', 'profound', 'program', 'progress', 'project', 'promin', 'promis', 'promot', 'prompt', 'pronounc', 'proof', 'propag', 'propagabda', 'proper', 'properti', 'prophet', 'propon', 'propos', 'prosecut', 'protect', 'protest', 'proton', 'proud', 'prove', 'proven', 'provid', 'provoc', 'ps', 'psycholog', 'pt', 'public', 'publish', 'pubm', 'puck', 'puet', 'punt', 'pup', 'puppet', 'puppetri', 'purdu', 'pure', 'purist', 'purpl', 'purpos', 'pursu', 'push', 'pussi', 'put', 'putina', 'qanta', 'qualifi', 'qualiti', 'quarter', 'queen', 'queerright', 'question', 'qui', 'quick', 'quit', 'quot', 'quotat', 'race', 'rachel', 'racial', 'racist', 'radial', 'radianc', 'radiant', 'radic', 'radio', 'radiolarian', 'raila_odinga', 'rais', 'rajoy', 'ramdasia', 'ramunni', 'ramūna', 'ran', 'randi', 'randroid', 'ranger', 'rank', 'rant', 'rantmedia', 'rao', 'rare', 'rasmussen', 'rate', 'rather', 'ration', 'rational', 'raulbot', 'raw', 'ray', 'reach', 'read', 'reader', 'readi', 'real', 'realis', 'realist', 'realiti', 'realiz', 'realli', 'reamin', 'reason', 'rebellion', 'recal', 'recant', 'receiv', 'recent', 'recept', 'reciev', 'recit', 'recogn', 'recognis', 'reconcil', 'recongis', 'record', 'recruit', 'recryst', 'rectifi', 'redirect', 'reduc', 'redund', 'ref', 'refactor', 'refer', 'referenc', 'reflect', 'reform', 'reformat', 'reformist', 'refrain', 'refus', 'refut', 'regard', 'regardless', 'region', 'regist', 'regular', 'reinforc', 'reiter', 'reknown', 'relat', 'relax', 'relay', 'releas', 'relev', 'reli', 'reliabl', 'religi', 'religion', 'remain', 'remark', 'rememb', 'remind', 'remot', 'remov', 'ren', 'renaiss', 'render', 'renomin', 'renzo', 'reoccur', 'repar', 'repeat', 'repetit', 'replac', 'repli', 'report', 'repost', 'repres', 'republ', 'reput', 'request', 'requir', 'research', 'resolv', 'respect', 'respond', 'respons', 'rest', 'restat', 'restor', 'result', 'retards1', 'retir', 'retract', 'retreat', 'retriv', 'return', 'reupload', 'reusabl', 'revert', 'review', 'revis', 'revolut', 'revolv', 'reword', 'rfa', 'rfc', 'rhetor', 'ribanj', 'ribarsko', 'rich', 'richest', 'rid', 'ride', 'ridicul', 'rig', 'right', 'rim', 'ring', 'riot', 'rise', 'risk', 'river', 'rob', 'robot', 'roc', 'rock', 'roger', 'roisman', 'role', 'roll', 'roman', 'romani', 'room', 'roosevelt', 'root', 'rot', 'rotat', 'round', 'rout', 'rs', 'rubbish', 'rude', 'rule', 'rumor', 'run', 'runescap', 'rural', 'rurika', 'russia', 'russian', 'ryo', 'ryuhei', 'ryulong', 'sa', 'sabina', 'sacramento', 'sad', 'sadden', 'sagawa', 'sahara', 'sahrawi', 'said', 'sakazaki', 'sake', 'salut', 'sampl', 'samuel', 'san', 'sanction', 'sandbox', 'santali', 'santana', 'sarekofvulcan', 'satanist', 'satisfi', 'saudiarabia', 'save', 'saw', 'say', 'scan', 'scar', 'scare', 'scatolog', 'scenario', 'schedual', 'schism', 'schmuck', 'scholar', 'scholari', 'scholarship', 'school', 'scibabi', 'scienc', 'scientif', 'scientist', 'scorn', 'scout', 'screw', 'screwjob', 'scull', 'sculli', 'sculptor', 'sculptur', 'sd', 'se', 'sea', 'seankilpatrick2014', 'search', 'season', 'seat', 'secess', 'second', 'secondari', 'section', 'sector', 'secur', 'sedentari', 'see', 'seek', 'seem', 'seen', 'seismic', 'seiz', 'select', 'self', 'sell', 'semi', 'seminari', 'semitian', 'send', 'sens', 'sent', 'sentai', 'sentanc', 'sentenc', 'separ', 'septemb', 'sequenc', 'serbia', 'serbian', 'seri', 'serious', 'serv', 'server', 'servic', 'set', 'settl', 'seven', 'sever', 'sex', 'sexual', 'sg', 'sh', 'sh_t', 'sh_tti', 'shall', 'shane', 'shape', 'share', 'shatter', 'shave', 'shawn', 'shed', 'shini', 'shinsengumi', 'shit', 'shitstorm', 'shiva', 'shock', 'shoot', 'short', 'shot', 'shoudld', 'shoulda', 'shove', 'show', 'shown', 'shut', 'shwain', 'sidaway', 'side', 'sight', 'sign', 'signal', 'signific', 'signpost', 'sikh', 'silentredirect', 'silli', 'similar', 'simpl', 'simpli', 'sin', 'sinc', 'sincer', 'singh', 'singl', 'sinjska', 'sir', 'sister', 'sit', 'site', 'situat', 'sityush', 'six', 'sixti', 'size', 'sketch', 'skill', 'skim', 'skin', 'skinhead', 'sky', 'skyhook', 'slade', 'slander', 'slate', 'slav', 'slavic', 'slay', 'slope', 'slovak', 'slow', 'smackbot', 'small', 'smaller', 'smart', 'smear', 'smelli', 'smer', 'smith', 'smoke', 'snake', 'sneer', 'snotti', 'snowcryst', 'snowflak', 'snunɐw', 'sob', 'social', 'socialist', 'socialistm', 'societi', 'sock', 'sockpuppet', 'sof', 'sofija', 'softwar', 'sohbet', 'soldier', 'solid', 'sollow', 'solomon', 'solut', 'solv', 'somebodi', 'somehow', 'someon', 'someth', 'sometim', 'somewhat', 'somewher', 'son', 'song', 'sonia', 'soon', 'sophist', 'sorri', 'sorrow', 'sort', 'sound', 'sourc', 'sousa', 'south', 'southeast', 'southeastern', 'southern', 'southofwatford', 'sovereignti', 'soviet', 'space', 'spacecraft', 'spacetim', 'spain', 'span', 'spanish', 'spare', 'speak', 'special', 'specif', 'specifi', 'specul', 'speech', 'speed', 'speedi', 'speedili', 'spell', 'spend', 'spent', 'spin', 'spirit', 'spiritu', 'spite', 'split', 'spong', 'sport', 'spot', 'spread', 'sprinker', 'sprint', 'sps', 'spurious', 'squatter', 'sri', 'srq', 'srs', 'ss2', 'stack', 'stage', 'stagnat', 'stalin', 'stalk', 'stand', 'standard', 'standardis', 'standfordham', 'stanley', 'star', 'starbuck', 'stargat', 'start', 'startl', 'stasi', 'state', 'statement', 'staten', 'station', 'statist', 'status', 'stay', 'steal', 'step', 'stephan', 'stereotyp', 'stern', 'sternhel', 'stick', 'stijepo', 'still', 'stingray', 'stink', 'stipan', 'stock', 'stop', 'storasta', 'store', 'stori', 'storylin', 'straight', 'straightest', 'strang', 'strategi', 'strauss', 'straw', 'street', 'strenght', 'strenghter', 'strength', 'strengthen', 'stress', 'stressbust', 'strict', 'strictur', 'strike', 'strip', 'strong', 'structur', 'struggl', 'student', 'studi', 'stuff', 'stupid', 'style', 'stylophora', 'su', 'suav', 'sub', 'subject', 'subjeg', 'submiss', 'submit', 'subpag', 'subscrib', 'subscript', 'subsec', 'subsect', 'subsequ', 'subservi', 'substanc', 'substanti', 'subsum', 'suburb', 'succeed', 'success', 'suck', 'sucker', 'sudden', 'suffer', 'suffic', 'suffici', 'suggest', 'suicid', 'suit', 'sum', 'summar', 'summari', 'summarili', 'sunni', 'sunraysia', 'sunris', 'super', 'superbeyin', 'support', 'suppos', 'sure', 'surfac', 'surpris', 'surround', 'surviv', 'suspect', 'suspicion', 'swatjest', 'swine', 'swing', 'switch', 'syd', 'sydney', 'symbol', 'symmetr', 'symmetri', 'sympathet', 'syriac', 'syrthiss', 'sysop', 'system', 'systemat', 'tabl', 'tactic', 'tag', 'tagor', 'taip', 'tajik', 'take', 'taken', 'taliban', 'talk', 'talki', 'talkpag', 'tamburitza', 'tandem', 'tangenti', 'tank', 'taphonomi', 'target', 'taskforc', 'tatoo', 'tax', 'tcm', 'teach', 'team', 'tear', 'technic', 'techniqu', 'technolog', 'tedford', 'teen', 'teh', 'televis', 'telford', 'tell', 'temperatur', 'templat', 'temporarili', 'ten', 'tend', 'tendenc', 'tensil', 'term', 'territori', 'terror', 'terrorist', 'test', 'testimoni', 'tether', 'texa', 'text', 'textil', 'tfd', 'thank', 'that', 'thatso', 'theatlant', 'thechief', 'thedoctor10', 'theme', 'theodor', 'theolog', 'theologian', 'theori', 'theoriz', 'there', 'therefor', 'thermit', 'these', 'thicker', 'thier', 'thing', 'think', 'third', 'thius', 'thiyya', 'thorough', 'though', 'thought', 'thousand', 'thread', 'threat', 'threaten', 'three', 'threshold', 'thrill', 'throughout', 'throught', 'throw', 'thrown', 'thru', 'thus', 'thye', 'tidi', 'tie', 'tiger', 'tild', 'tilt', 'timberwolf', 'time', 'timerang', 'tire', 'titl', 'tlppud2ah8mwiqlgvidgba', 'today', 'todo', 'toei', 'togeth', 'tokyo', 'told', 'toler', 'tom', 'tomorrow', 'tongu', 'toni', 'tonight', 'took', 'tool', 'top', 'topic', 'total', 'totalbox', 'touch', 'tourism', 'toursim', 'toward', 'tower', 'town', 'trace', 'track', 'trad', 'tradit', 'train', 'transclud', 'transcrib', 'transfer', 'transit', 'translat', 'transliter', 'transmit', 'transpar', 'transport', 'trap', 'trappist', 'trash', 'trauma', 'travel', 'treason', 'treat', 'treati', 'tree', 'tremend', 'tri', 'trial', 'trip', 'tripel', 'tripl', 'tripod', 'triva', 'trivia', 'trliš', 'troll', 'troop', 'tropcho', 'tropic', 'troubl', 'trough', 'troy', 'true', 'truli', 'truncat', 'trust', 'truth', 'tryinbg', 'tsar', 'ttack', 'tuch', 'turborang', 'turkic', 'turn', 'turnaway', 'tv', 'tw', 'twat', 'twice', 'twist', 'two', 'txt', 'type', 'typic', 'ugli', 'uh', 'uisg', 'uk', 'ukrain', 'ukrainian', 'ulterior', 'ultim', 'unabl', 'unaccept', 'unattract', 'unavoid', 'unawar', 'unban', 'unblock', 'uncharacterist', 'uncit', 'uncivil', 'uncl', 'unclear', 'uncommon', 'unconstitut', 'unconstruct', 'uncov', 'undelet', 'underdog', 'underlien', 'understand', 'understood', 'underutil', 'undesir', 'undo', 'undu', 'unfair', 'unfortun', 'unfortuneat', 'unfound', 'ungrammat', 'unholi', 'unimport', 'unintent', 'uninterest', 'uniqu', 'unit', 'univers', 'unjustifi', 'unknown', 'unless', 'unneceessari', 'unnecessari', 'unnecessarili', 'unprotect', 'unreason', 'unsign', 'unsolicit', 'unsourc', 'unspeak', 'unspecifi', 'unsubscrib', 'unsur', 'untag', 'unus', 'unusu', 'unwant', 'unwarr', 'updat', 'upgrad', 'upheld', 'upload', 'upon', 'upper', 'uppsok', 'upset', 'ur', 'urban', 'urg', 'urgent', 'uri', 'urn', 'us', 'use', 'useless', 'user', 'userbox', 'userinfo', 'usernam', 'userpag', 'usful', 'uskok', 'usual', 'usurp', 'utc', 'uttar', 'uuuh', 'vaccin', 'vagina', 'vagu', 'valid', 'valu', 'vandal', 'vandalis', 'variant', 'varieti', 'various', 'vast', 'vaughan', 'vaughn', 'ved', 'veget', 'vehicl', 'vendetta', 'verbal', 'verbatim', 'verg', 'verif', 'verifi', 'version', 'vertebr', 'vertic', 'vfd', 'via', 'vicenarian', 'vicious', 'victim', 'victoria', 'video', 'view', 'viewer', 'vilius', 'villag', 'violat', 'violent', 'virus', 'visibl', 'visitor', 'vital', 'vogu', 'voic', 'void', 'volum', 'vote', 'voydan', 'vydūna', 'wa', 'wacko', 'waggl', 'wait', 'wake', 'waldorf', 'wale', 'wall', 'wallin', 'walnut', 'want', 'war', 'ward', 'warn', 'warrant', 'warren', 'wash', 'washington', 'wast', 'watch', 'watchtow', 'water', 'watermark', 'wave', 'waward', 'way', 'waysssssssssss', 'wc', 'wealth', 'wear', 'weav', 'web', 'webpag', 'websit', 'weed', 'week', 'weigh', 'weight', 'weijibaikebianji', 'weiner', 'welcom', 'well', 'went', 'west', 'western', 'what', 'whatev', 'whatsoev', 'whenev', 'whereev', 'whether', 'whilst', 'whirl', 'whistelblow', 'white', 'whole', 'whose', 'wiaga', 'wide', 'wider', 'widespread', 'width', 'wiil', 'wiki', 'wikicod', 'wikicolor', 'wikifi', 'wikimedia', 'wikipedia', 'wikipedia_has_free_classical_music_download', 'wikipedia_talk', 'wikipedian', 'wikiproject', 'wikiproject_classical_mus', 'wikiproject_mus', 'wikiworld', 'wikki', 'wiktionari', 'wiley', 'will', 'willi', 'william', 'win', 'wind', 'wing', 'winner', 'wire', 'wish', 'wit', 'within', 'without', 'witht', 'witz', 'witzeman', 'witzemen', 'witzewoman', 'wizard', 'wof', 'womb', 'women', 'wonder', 'wont', 'woo', 'wood', 'word', 'work', 'worker', 'workshop', 'world', 'worri', 'worst', 'worth', 'worthless', 'would', 'wound', 'wow', 'wp', 'wrap', 'wrestl', 'write', 'writer', 'written', 'wrong', 'wrote', 'wtf', 'ww2', 'wwi', 'wwii', 'www', 'xbox', 'xd', 'xenotalk', 'ya', 'yack', 'yamla', 'yangtz', 'yayoi', 'yeah', 'year', 'yellowmonkey', 'yep', 'yes', 'yesterday', 'yet', 'yggdrasil', 'york', 'young', 'younger', 'youngest', 'yourtransitad', 'youth', 'ypov', 'yugoslav', 'zadar', 'zagreb', 'zaostrog', 'zeev', 'zero', 'zetterl', 'zubrin', 'zyurang', 'čiurlioni', 'čiurlionienė', 'šeinius', 'šimkus', 'šimoni', 'štokavian', 'željezno', 'ʍaunus', 'κρανιώνας', 'дреновени', 'レンジャー', '御法度', '竜龙', '見学', '迷惑', '連絡']\n"
          ]
        },
        {
          "output_type": "stream",
          "name": "stderr",
          "text": [
            "/usr/local/lib/python3.7/dist-packages/sklearn/utils/deprecation.py:87: FutureWarning: Function get_feature_names is deprecated; get_feature_names is deprecated in 1.0 and will be removed in 1.2. Please use get_feature_names_out instead.\n",
            "  warnings.warn(msg, category=FutureWarning)\n"
          ]
        }
      ]
    },
    {
      "cell_type": "code",
      "source": [
        "print(x_train_count.toarray()[:3])"
      ],
      "metadata": {
        "colab": {
          "base_uri": "https://localhost:8080/"
        },
        "id": "t41q4LHvqf3Y",
        "outputId": "10affc5e-6e88-43d0-8fc6-aa2c50b8d908"
      },
      "execution_count": 25,
      "outputs": [
        {
          "output_type": "stream",
          "name": "stdout",
          "text": [
            "[[0 0 0 ... 0 0 0]\n",
            " [0 0 0 ... 0 0 0]\n",
            " [0 0 0 ... 0 0 0]]\n"
          ]
        }
      ]
    },
    {
      "cell_type": "code",
      "source": [
        "# model\n",
        "model = MultinomialNB()\n",
        "model.fit(x_train_count, y_train)"
      ],
      "metadata": {
        "colab": {
          "base_uri": "https://localhost:8080/"
        },
        "id": "ShK4CP_Dqf0x",
        "outputId": "856d6f6d-f407-408a-b52b-8f83316b48f7"
      },
      "execution_count": 26,
      "outputs": [
        {
          "output_type": "execute_result",
          "data": {
            "text/plain": [
              "MultinomialNB()"
            ]
          },
          "metadata": {},
          "execution_count": 26
        }
      ]
    },
    {
      "cell_type": "markdown",
      "source": [
        "PREDICTING COMMENT"
      ],
      "metadata": {
        "id": "isjn1WtVtxWW"
      }
    },
    {
      "cell_type": "code",
      "source": [
        "comment = \"Fucked with the wrong muchacho.  21:19, July 23, 2005 (UTC)\"\n",
        "\n",
        "\n",
        "# again doing some preprocessing steps\n",
        "\n",
        "text_tokenss = word_tokenize(comment)\n",
        "\n",
        "tokens_without_sww = [wordss for wordss in text_tokenss if not wordss in stop_words]\n",
        "\n",
        "# using stemmer\n",
        "stmm = SnowballStemmer(language='english')\n",
        "li2 = []\n",
        "\n",
        "for sttt in tokens_without_sww:\n",
        "    x2 = stmm.stem(sttt)\n",
        "    li2.append(x2)\n",
        "\n",
        "\n",
        "strii = ' '.join(li2)\n",
        "l = [strii]\n",
        "\n",
        "\n",
        "com = v.transform(l)"
      ],
      "metadata": {
        "id": "fH1OWH03qfyL"
      },
      "execution_count": 27,
      "outputs": []
    },
    {
      "cell_type": "markdown",
      "source": [
        "predicting if comment is toxic or not\n",
        "\n",
        "\n",
        "0 -- not toxic\n",
        "\n",
        "1 -- toxic"
      ],
      "metadata": {
        "id": "ZHzi2Cbat7ND"
      }
    },
    {
      "cell_type": "code",
      "source": [
        "print(model.predict(com))"
      ],
      "metadata": {
        "colab": {
          "base_uri": "https://localhost:8080/"
        },
        "id": "L3vvKFcKteoV",
        "outputId": "6e7e6447-5f0a-46a8-acee-ac510574b7b6"
      },
      "execution_count": 28,
      "outputs": [
        {
          "output_type": "stream",
          "name": "stdout",
          "text": [
            "[1]\n"
          ]
        }
      ]
    },
    {
      "cell_type": "code",
      "source": [
        "# for model score\n",
        "x_test_count = v.transform(X_test)\n",
        "print(model.score(x_test_count, y_test))"
      ],
      "metadata": {
        "colab": {
          "base_uri": "https://localhost:8080/"
        },
        "id": "evunrPEItegm",
        "outputId": "219a2780-533a-4dfa-d895-bceff3a3673f"
      },
      "execution_count": 29,
      "outputs": [
        {
          "output_type": "stream",
          "name": "stdout",
          "text": [
            "0.9\n"
          ]
        }
      ]
    }
  ]
}